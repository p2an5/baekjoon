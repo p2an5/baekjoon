{
  "nbformat": 4,
  "nbformat_minor": 0,
  "metadata": {
    "colab": {
      "name": "0724LSTM.ipynb",
      "provenance": [],
      "authorship_tag": "ABX9TyMx1EKC4lSS5ayVzTh36Q5Y",
      "include_colab_link": true
    },
    "kernelspec": {
      "name": "python3",
      "display_name": "Python 3"
    },
    "language_info": {
      "name": "python"
    }
  },
  "cells": [
    {
      "cell_type": "markdown",
      "metadata": {
        "id": "view-in-github",
        "colab_type": "text"
      },
      "source": [
        "<a href=\"https://colab.research.google.com/github/p2an5/baekjoon/blob/main/0724LSTM.ipynb\" target=\"_parent\"><img src=\"https://colab.research.google.com/assets/colab-badge.svg\" alt=\"Open In Colab\"/></a>"
      ]
    },
    {
      "cell_type": "code",
      "execution_count": 1,
      "metadata": {
        "colab": {
          "base_uri": "https://localhost:8080/"
        },
        "id": "7h_NEnJ6B22Q",
        "outputId": "ae8e2595-7dce-49cf-986e-6b285f5f0ff9"
      },
      "outputs": [
        {
          "output_type": "stream",
          "name": "stdout",
          "text": [
            "Looking in indexes: https://pypi.org/simple, https://us-python.pkg.dev/colab-wheels/public/simple/\n",
            "Collecting pyupbit\n",
            "  Downloading pyupbit-0.2.33-py3-none-any.whl (24 kB)\n",
            "Requirement already satisfied: pandas in /usr/local/lib/python3.7/dist-packages (from pyupbit) (1.3.5)\n",
            "Requirement already satisfied: requests in /usr/local/lib/python3.7/dist-packages (from pyupbit) (2.23.0)\n",
            "Collecting pyjwt>=2.0.0\n",
            "  Downloading PyJWT-2.4.0-py3-none-any.whl (18 kB)\n",
            "Collecting websockets\n",
            "  Downloading websockets-10.3-cp37-cp37m-manylinux_2_5_x86_64.manylinux1_x86_64.manylinux_2_12_x86_64.manylinux2010_x86_64.whl (112 kB)\n",
            "\u001b[K     |████████████████████████████████| 112 kB 33.6 MB/s \n",
            "\u001b[?25hRequirement already satisfied: pytz>=2017.3 in /usr/local/lib/python3.7/dist-packages (from pandas->pyupbit) (2022.1)\n",
            "Requirement already satisfied: python-dateutil>=2.7.3 in /usr/local/lib/python3.7/dist-packages (from pandas->pyupbit) (2.8.2)\n",
            "Requirement already satisfied: numpy>=1.17.3 in /usr/local/lib/python3.7/dist-packages (from pandas->pyupbit) (1.21.6)\n",
            "Requirement already satisfied: six>=1.5 in /usr/local/lib/python3.7/dist-packages (from python-dateutil>=2.7.3->pandas->pyupbit) (1.15.0)\n",
            "Requirement already satisfied: chardet<4,>=3.0.2 in /usr/local/lib/python3.7/dist-packages (from requests->pyupbit) (3.0.4)\n",
            "Requirement already satisfied: certifi>=2017.4.17 in /usr/local/lib/python3.7/dist-packages (from requests->pyupbit) (2022.6.15)\n",
            "Requirement already satisfied: urllib3!=1.25.0,!=1.25.1,<1.26,>=1.21.1 in /usr/local/lib/python3.7/dist-packages (from requests->pyupbit) (1.24.3)\n",
            "Requirement already satisfied: idna<3,>=2.5 in /usr/local/lib/python3.7/dist-packages (from requests->pyupbit) (2.10)\n",
            "Installing collected packages: websockets, pyjwt, pyupbit\n",
            "Successfully installed pyjwt-2.4.0 pyupbit-0.2.33 websockets-10.3\n"
          ]
        }
      ],
      "source": [
        "pip install pyupbit"
      ]
    },
    {
      "cell_type": "code",
      "source": [
        "import numpy as np\n",
        "import pandas as pd\n",
        "\n",
        "# 파이토치 라이브러리 호출\n",
        "import torch \n",
        "import matplotlib.pyplot as plt \n",
        "\n",
        "import torchvision \n",
        "import torchvision.transforms as transforms \n",
        "\n",
        "import torch.nn as nn \n",
        "import torch.optim as optim"
      ],
      "metadata": {
        "id": "HYJ3UhKqB7Mn"
      },
      "execution_count": 8,
      "outputs": []
    },
    {
      "cell_type": "code",
      "source": [
        "import pandas_datareader.data as pdr\n",
        "import matplotlib.pyplot as plt\n",
        "\n",
        "import datetime\n",
        "\n",
        "from torch.autograd import Variable \n",
        "\n",
        "from torch.utils.data import Dataset, DataLoader"
      ],
      "metadata": {
        "id": "ka_fjEMZHyRe"
      },
      "execution_count": 15,
      "outputs": []
    },
    {
      "cell_type": "code",
      "source": [
        "#0724 ver\n",
        "#데이터 불러오기\n",
        "\n",
        "import pyupbit\n",
        "from pyupbit.quotation_api import get_tickers\n",
        "\n",
        "ETH_price = pyupbit.get_current_price(\"KRW-ETH\")\n",
        "\n",
        "df_ETH = pyupbit.get_ohlcv(\"KRW-ETH\",\"hour\",1581, to = '20220501')\n",
        "#220501까지 1581일\n",
        "#pyupbit.get_ohlcv로 받으면 open, high, low, close, volume거래량, value가 기본으로 있는건지? ->맞는듯\n",
        "\n",
        "print(df_ETH)"
      ],
      "metadata": {
        "colab": {
          "base_uri": "https://localhost:8080/"
        },
        "id": "01vUIgwSCFxh",
        "outputId": "6a0d51b2-8a8b-493c-81e5-a218106f21d5"
      },
      "execution_count": 2,
      "outputs": [
        {
          "output_type": "stream",
          "name": "stdout",
          "text": [
            "                          open       high        low      close  \\\n",
            "2018-01-01 09:00:00  1028000.0  1076000.0  1011500.0  1057000.0   \n",
            "2018-01-02 09:00:00  1056500.0  1270500.0  1051000.0  1177000.0   \n",
            "2018-01-03 09:00:00  1177000.0  1324500.0  1157500.0  1295500.0   \n",
            "2018-01-04 09:00:00  1295500.0  1518000.0  1269000.0  1439500.0   \n",
            "2018-01-05 09:00:00  1439500.0  1645000.0  1406500.0  1554500.0   \n",
            "...                        ...        ...        ...        ...   \n",
            "2022-04-26 09:00:00  3766000.0  3799000.0  3553000.0  3596000.0   \n",
            "2022-04-27 09:00:00  3597000.0  3702000.0  3580000.0  3677000.0   \n",
            "2022-04-28 09:00:00  3677000.0  3786000.0  3646000.0  3737000.0   \n",
            "2022-04-29 09:00:00  3737000.0  3753000.0  3603000.0  3628000.0   \n",
            "2022-04-30 09:00:00  3630000.0  3656000.0  3564000.0  3570000.0   \n",
            "\n",
            "                            volume         value  \n",
            "2018-01-01 09:00:00   51315.571156  5.381793e+10  \n",
            "2018-01-02 09:00:00  158481.289301  1.886397e+11  \n",
            "2018-01-03 09:00:00   83430.944304  1.009922e+11  \n",
            "2018-01-04 09:00:00   97018.955981  1.346634e+11  \n",
            "2018-01-05 09:00:00  109665.854669  1.683409e+11  \n",
            "...                            ...           ...  \n",
            "2022-04-26 09:00:00   39317.760548  1.449032e+11  \n",
            "2022-04-27 09:00:00   24282.807473  8.854883e+10  \n",
            "2022-04-28 09:00:00   26791.875509  9.942653e+10  \n",
            "2022-04-29 09:00:00   26801.567048  9.839410e+10  \n",
            "2022-04-30 09:00:00   17625.435214  6.378125e+10  \n",
            "\n",
            "[1581 rows x 6 columns]\n"
          ]
        }
      ]
    },
    {
      "cell_type": "code",
      "source": [
        "df_ETH = df_ETH.drop(\"value\",axis=1)\n",
        "#value는 학습에 쓰는 일이 없어서 먼저 제외\n",
        "\n",
        "df_ETH = df_ETH.drop(columns='volume')\n",
        "#이렇게도 삭제 가능\n",
        "\n",
        "print(df_ETH)"
      ],
      "metadata": {
        "colab": {
          "base_uri": "https://localhost:8080/"
        },
        "id": "RGCPPO4jCLug",
        "outputId": "5739a901-ee0b-4e65-ec1c-5d1ee4ed8027"
      },
      "execution_count": 3,
      "outputs": [
        {
          "output_type": "stream",
          "name": "stdout",
          "text": [
            "                          open       high        low      close\n",
            "2018-01-01 09:00:00  1028000.0  1076000.0  1011500.0  1057000.0\n",
            "2018-01-02 09:00:00  1056500.0  1270500.0  1051000.0  1177000.0\n",
            "2018-01-03 09:00:00  1177000.0  1324500.0  1157500.0  1295500.0\n",
            "2018-01-04 09:00:00  1295500.0  1518000.0  1269000.0  1439500.0\n",
            "2018-01-05 09:00:00  1439500.0  1645000.0  1406500.0  1554500.0\n",
            "...                        ...        ...        ...        ...\n",
            "2022-04-26 09:00:00  3766000.0  3799000.0  3553000.0  3596000.0\n",
            "2022-04-27 09:00:00  3597000.0  3702000.0  3580000.0  3677000.0\n",
            "2022-04-28 09:00:00  3677000.0  3786000.0  3646000.0  3737000.0\n",
            "2022-04-29 09:00:00  3737000.0  3753000.0  3603000.0  3628000.0\n",
            "2022-04-30 09:00:00  3630000.0  3656000.0  3564000.0  3570000.0\n",
            "\n",
            "[1581 rows x 4 columns]\n"
          ]
        }
      ]
    },
    {
      "cell_type": "code",
      "source": [
        "#결측치 확인\n",
        "df_ETH.isnull().sum()"
      ],
      "metadata": {
        "colab": {
          "base_uri": "https://localhost:8080/"
        },
        "id": "YcrP4XnNCj6e",
        "outputId": "177b3633-3d1e-4ec3-fc0d-f2050743ed63"
      },
      "execution_count": 5,
      "outputs": [
        {
          "output_type": "execute_result",
          "data": {
            "text/plain": [
              "open     0\n",
              "high     0\n",
              "low      0\n",
              "close    0\n",
              "dtype: int64"
            ]
          },
          "metadata": {},
          "execution_count": 5
        }
      ]
    },
    {
      "cell_type": "code",
      "source": [
        "X = df_ETH\n",
        "y = df_ETH.iloc[:, 3:4]\n",
        "\n",
        "print(X)\n",
        "print(y)"
      ],
      "metadata": {
        "colab": {
          "base_uri": "https://localhost:8080/"
        },
        "id": "LDhqXGLmCPB0",
        "outputId": "8e40f232-824d-4df9-bf4d-69821ab95076"
      },
      "execution_count": 4,
      "outputs": [
        {
          "output_type": "stream",
          "name": "stdout",
          "text": [
            "                          open       high        low      close\n",
            "2018-01-01 09:00:00  1028000.0  1076000.0  1011500.0  1057000.0\n",
            "2018-01-02 09:00:00  1056500.0  1270500.0  1051000.0  1177000.0\n",
            "2018-01-03 09:00:00  1177000.0  1324500.0  1157500.0  1295500.0\n",
            "2018-01-04 09:00:00  1295500.0  1518000.0  1269000.0  1439500.0\n",
            "2018-01-05 09:00:00  1439500.0  1645000.0  1406500.0  1554500.0\n",
            "...                        ...        ...        ...        ...\n",
            "2022-04-26 09:00:00  3766000.0  3799000.0  3553000.0  3596000.0\n",
            "2022-04-27 09:00:00  3597000.0  3702000.0  3580000.0  3677000.0\n",
            "2022-04-28 09:00:00  3677000.0  3786000.0  3646000.0  3737000.0\n",
            "2022-04-29 09:00:00  3737000.0  3753000.0  3603000.0  3628000.0\n",
            "2022-04-30 09:00:00  3630000.0  3656000.0  3564000.0  3570000.0\n",
            "\n",
            "[1581 rows x 4 columns]\n",
            "                         close\n",
            "2018-01-01 09:00:00  1057000.0\n",
            "2018-01-02 09:00:00  1177000.0\n",
            "2018-01-03 09:00:00  1295500.0\n",
            "2018-01-04 09:00:00  1439500.0\n",
            "2018-01-05 09:00:00  1554500.0\n",
            "...                        ...\n",
            "2022-04-26 09:00:00  3596000.0\n",
            "2022-04-27 09:00:00  3677000.0\n",
            "2022-04-28 09:00:00  3737000.0\n",
            "2022-04-29 09:00:00  3628000.0\n",
            "2022-04-30 09:00:00  3570000.0\n",
            "\n",
            "[1581 rows x 1 columns]\n"
          ]
        }
      ]
    },
    {
      "cell_type": "code",
      "source": [
        "#데이터 정규화\n",
        "\"\"\"\n",
        "학습이 잘되기 위해 데이터 정규화 \n",
        "StandardScaler\t각 특징의 평균을 0, 분산을 1이 되도록 변경\n",
        "MinMaxScaler\t최대/최소값이 각각 1, 0이 되도록 변경\n",
        "\"\"\"\n",
        "\n",
        "from sklearn.preprocessing import StandardScaler, MinMaxScaler\n",
        "mmsc = MinMaxScaler()\n",
        "stdsc = StandardScaler()\n",
        "\n",
        "X_std = stdsc.fit_transform(X)\n",
        "y_mm = mmsc.fit_transform(y) "
      ],
      "metadata": {
        "id": "AKk8mrTQCY_K"
      },
      "execution_count": 10,
      "outputs": []
    },
    {
      "cell_type": "code",
      "source": [
        "# Train Data\n",
        "X_train = X_std[:1200, :]\n",
        "X_test = X_std[1200:, :]\n",
        "\n",
        "# Test Data \n",
        "y_train = y_mm[:1200, :]\n",
        "y_test = y_mm[1200:, :] \n",
        "\n",
        "print(\"Training Shape\", X_train.shape, y_train.shape)\n",
        "print(\"Testing Shape\", X_test.shape, y_test.shape) "
      ],
      "metadata": {
        "colab": {
          "base_uri": "https://localhost:8080/"
        },
        "id": "tx-HVnKgCxae",
        "outputId": "025098ba-6417-40cc-a4ff-5ce8e3af237e"
      },
      "execution_count": 13,
      "outputs": [
        {
          "output_type": "stream",
          "name": "stdout",
          "text": [
            "Training Shape (1200, 4) (1200, 1)\n",
            "Testing Shape (381, 4) (381, 1)\n"
          ]
        }
      ]
    },
    {
      "cell_type": "code",
      "source": [
        "#학습할 수 있는 형태로 변환하기 위해 Torch로 변환\n",
        "\n",
        "\"\"\"\n",
        "torch Variable에는 3개의 형태가 있다. \n",
        "data, grad, grad_fn 한 번 구글에 찾아서 공부해보길 바랍니다. \n",
        "\"\"\"\n",
        "\n",
        "X_train_tensors = Variable(torch.Tensor(X_train))\n",
        "X_test_tensors = Variable(torch.Tensor(X_test))\n",
        "\n",
        "y_train_tensors = Variable(torch.Tensor(y_train))\n",
        "y_test_tensors = Variable(torch.Tensor(y_test))\n",
        "\n",
        "X_train_tensors_final = torch.reshape(X_train_tensors,   (X_train_tensors.shape[0], 1, X_train_tensors.shape[1]))\n",
        "X_test_tensors_final = torch.reshape(X_test_tensors,  (X_test_tensors.shape[0], 1, X_test_tensors.shape[1])) \n",
        "\n",
        "print(\"Training Shape\", X_train_tensors_final.shape, y_train_tensors.shape)\n",
        "print(\"Testing Shape\", X_test_tensors_final.shape, y_test_tensors.shape) \n"
      ],
      "metadata": {
        "colab": {
          "base_uri": "https://localhost:8080/"
        },
        "id": "4Q6a0w7wDD__",
        "outputId": "c76bffbb-64db-4bc0-a385-fe25d07817da"
      },
      "execution_count": 16,
      "outputs": [
        {
          "output_type": "stream",
          "name": "stdout",
          "text": [
            "Training Shape torch.Size([1200, 1, 4]) torch.Size([1200, 1])\n",
            "Testing Shape torch.Size([381, 1, 4]) torch.Size([381, 1])\n"
          ]
        }
      ]
    },
    {
      "cell_type": "code",
      "source": [
        "#GPU 준비하기\n",
        "\n",
        "device = torch.device(\"cuda:0\" if torch.cuda.is_available() else \"cpu\")  # device\n",
        "#print(torch.cuda.get_device_name(0)"
      ],
      "metadata": {
        "id": "nduwP_dRIk14"
      },
      "execution_count": 22,
      "outputs": []
    },
    {
      "cell_type": "code",
      "source": [
        "#LSTM 네트워크 구성하기\n",
        "\n",
        "class LSTM1(nn.Module):\n",
        "  def __init__(self, num_classes, input_size, hidden_size, num_layers, seq_length):\n",
        "    super(LSTM1, self).__init__()\n",
        "    self.num_classes = num_classes #number of classes\n",
        "    self.num_layers = num_layers #number of layers\n",
        "    self.input_size = input_size #input size\n",
        "    self.hidden_size = hidden_size #hidden state\n",
        "    self.seq_length = seq_length #sequence length\n",
        " \n",
        "    self.lstm = nn.LSTM(input_size=input_size, hidden_size=hidden_size,\n",
        "                      num_layers=num_layers, batch_first=True) #lstm\n",
        "    self.fc_1 =  nn.Linear(hidden_size, 128) #fully connected 1\n",
        "    self.fc = nn.Linear(128, num_classes) #fully connected last layer\n",
        "\n",
        "    self.relu = nn.ReLU() \n",
        "\n",
        "  def forward(self,x):\n",
        "    h_0 = Variable(torch.zeros(self.num_layers, x.size(0), self.hidden_size)).to(device) #hidden state\n",
        "    c_0 = Variable(torch.zeros(self.num_layers, x.size(0), self.hidden_size)).to(device) #internal state   \n",
        "    # Propagate input through LSTM\n",
        "\n",
        "    output, (hn, cn) = self.lstm(x, (h_0, c_0)) #lstm with input, hidden, and internal state\n",
        "   \n",
        "    hn = hn.view(-1, self.hidden_size) #reshaping the data for Dense layer next\n",
        "    out = self.relu(hn)\n",
        "    out = self.fc_1(out) #first Dense\n",
        "    out = self.relu(out) #relu\n",
        "    out = self.fc(out) #Final Output\n",
        "   \n",
        "    return out \n",
        "\n",
        "#출처: https://coding-yoon.tistory.com/131 [코딩도상국:티스토리]\n",
        "\n",
        "#위 코드는 복잡해 보이지만, 실상 하나씩 확인해보면 굉장히 연산이 적은 네트워크입니다. \n",
        "#시계열 데이터이지만, 간단한 구성을 위해 Sequence Length도 1이고, LSTM Layer도 1이기 때문에 굉장히 빨리 끝납니다. \n",
        "#아마 본문 작성자가 CPU환경에서도 쉽게 따라 할 수 있게 간단하게 작성한 것 같습니다. \n"
      ],
      "metadata": {
        "id": "0UeiL9tdH-QV"
      },
      "execution_count": 17,
      "outputs": []
    },
    {
      "cell_type": "code",
      "source": [
        "#네트워크 파라미터 구성하기 \n",
        "\n",
        "num_epochs = 30000 #1000 epochs\n",
        "learning_rate = 0.00001 #0.001 lr\n",
        "\n",
        "input_size = 4 #number of features #수정하면서 하기\n",
        "hidden_size = 2 #number of features in hidden state\n",
        "num_layers = 1 #number of stacked lstm layers\n",
        "\n",
        "num_classes = 1 #number of output classes \n"
      ],
      "metadata": {
        "id": "XeMMMoVPIL76"
      },
      "execution_count": 25,
      "outputs": []
    },
    {
      "cell_type": "code",
      "source": [
        "lstm1 = LSTM1(num_classes, input_size, hidden_size, num_layers, X_train_tensors_final.shape[1]).to(device)\n",
        "\n",
        "loss_function = torch.nn.MSELoss()    # mean-squared error for regression\n",
        "optimizer = torch.optim.Adam(lstm1.parameters(), lr=learning_rate)  # adam optimizer"
      ],
      "metadata": {
        "id": "S8DbrADjITbn"
      },
      "execution_count": 27,
      "outputs": []
    },
    {
      "cell_type": "code",
      "source": [
        "#학습하기\n",
        "\n",
        "for epoch in range(num_epochs):\n",
        "  outputs = lstm1.forward(X_train_tensors_final.to(device)) #forward pass\n",
        "  optimizer.zero_grad() #caluclate the gradient, manually setting to 0\n",
        " \n",
        "  # obtain the loss function\n",
        "  loss = loss_function(outputs, y_train_tensors.to(device))\n",
        "\n",
        "  loss.backward() #calculates the loss of the loss function\n",
        " \n",
        "  optimizer.step() #improve from loss, i.e backprop\n",
        "  if epoch % 100 == 0:\n",
        "    print(\"Epoch: %d, loss: %1.5f\" % (epoch, loss.item())) \n"
      ],
      "metadata": {
        "colab": {
          "base_uri": "https://localhost:8080/"
        },
        "id": "I1k-VET_IaYy",
        "outputId": "7a5f5c01-27f4-45c3-b0ef-9ebf312f1c2a"
      },
      "execution_count": 28,
      "outputs": [
        {
          "output_type": "stream",
          "name": "stdout",
          "text": [
            "Epoch: 0, loss: 0.01588\n",
            "Epoch: 100, loss: 0.01204\n",
            "Epoch: 200, loss: 0.01002\n",
            "Epoch: 300, loss: 0.00913\n",
            "Epoch: 400, loss: 0.00879\n",
            "Epoch: 500, loss: 0.00868\n",
            "Epoch: 600, loss: 0.00864\n",
            "Epoch: 700, loss: 0.00861\n",
            "Epoch: 800, loss: 0.00859\n",
            "Epoch: 900, loss: 0.00856\n",
            "Epoch: 1000, loss: 0.00854\n",
            "Epoch: 1100, loss: 0.00852\n",
            "Epoch: 1200, loss: 0.00849\n",
            "Epoch: 1300, loss: 0.00847\n",
            "Epoch: 1400, loss: 0.00844\n",
            "Epoch: 1500, loss: 0.00842\n",
            "Epoch: 1600, loss: 0.00839\n",
            "Epoch: 1700, loss: 0.00837\n",
            "Epoch: 1800, loss: 0.00834\n",
            "Epoch: 1900, loss: 0.00832\n",
            "Epoch: 2000, loss: 0.00829\n",
            "Epoch: 2100, loss: 0.00826\n",
            "Epoch: 2200, loss: 0.00824\n",
            "Epoch: 2300, loss: 0.00821\n",
            "Epoch: 2400, loss: 0.00818\n",
            "Epoch: 2500, loss: 0.00815\n",
            "Epoch: 2600, loss: 0.00812\n",
            "Epoch: 2700, loss: 0.00808\n",
            "Epoch: 2800, loss: 0.00804\n",
            "Epoch: 2900, loss: 0.00800\n",
            "Epoch: 3000, loss: 0.00796\n",
            "Epoch: 3100, loss: 0.00791\n",
            "Epoch: 3200, loss: 0.00786\n",
            "Epoch: 3300, loss: 0.00780\n",
            "Epoch: 3400, loss: 0.00774\n",
            "Epoch: 3500, loss: 0.00767\n",
            "Epoch: 3600, loss: 0.00761\n",
            "Epoch: 3700, loss: 0.00753\n",
            "Epoch: 3800, loss: 0.00745\n",
            "Epoch: 3900, loss: 0.00737\n",
            "Epoch: 4000, loss: 0.00729\n",
            "Epoch: 4100, loss: 0.00720\n",
            "Epoch: 4200, loss: 0.00710\n",
            "Epoch: 4300, loss: 0.00700\n",
            "Epoch: 4400, loss: 0.00690\n",
            "Epoch: 4500, loss: 0.00680\n",
            "Epoch: 4600, loss: 0.00669\n",
            "Epoch: 4700, loss: 0.00657\n",
            "Epoch: 4800, loss: 0.00646\n",
            "Epoch: 4900, loss: 0.00634\n",
            "Epoch: 5000, loss: 0.00621\n",
            "Epoch: 5100, loss: 0.00609\n",
            "Epoch: 5200, loss: 0.00596\n",
            "Epoch: 5300, loss: 0.00582\n",
            "Epoch: 5400, loss: 0.00569\n",
            "Epoch: 5500, loss: 0.00555\n",
            "Epoch: 5600, loss: 0.00542\n",
            "Epoch: 5700, loss: 0.00528\n",
            "Epoch: 5800, loss: 0.00514\n",
            "Epoch: 5900, loss: 0.00500\n",
            "Epoch: 6000, loss: 0.00486\n",
            "Epoch: 6100, loss: 0.00472\n",
            "Epoch: 6200, loss: 0.00458\n",
            "Epoch: 6300, loss: 0.00445\n",
            "Epoch: 6400, loss: 0.00431\n",
            "Epoch: 6500, loss: 0.00417\n",
            "Epoch: 6600, loss: 0.00403\n",
            "Epoch: 6700, loss: 0.00390\n",
            "Epoch: 6800, loss: 0.00376\n",
            "Epoch: 6900, loss: 0.00363\n",
            "Epoch: 7000, loss: 0.00350\n",
            "Epoch: 7100, loss: 0.00338\n",
            "Epoch: 7200, loss: 0.00325\n",
            "Epoch: 7300, loss: 0.00313\n",
            "Epoch: 7400, loss: 0.00301\n",
            "Epoch: 7500, loss: 0.00290\n",
            "Epoch: 7600, loss: 0.00279\n",
            "Epoch: 7700, loss: 0.00268\n",
            "Epoch: 7800, loss: 0.00257\n",
            "Epoch: 7900, loss: 0.00247\n",
            "Epoch: 8000, loss: 0.00237\n",
            "Epoch: 8100, loss: 0.00228\n",
            "Epoch: 8200, loss: 0.00219\n",
            "Epoch: 8300, loss: 0.00211\n",
            "Epoch: 8400, loss: 0.00202\n",
            "Epoch: 8500, loss: 0.00195\n",
            "Epoch: 8600, loss: 0.00188\n",
            "Epoch: 8700, loss: 0.00181\n",
            "Epoch: 8800, loss: 0.00174\n",
            "Epoch: 8900, loss: 0.00168\n",
            "Epoch: 9000, loss: 0.00163\n",
            "Epoch: 9100, loss: 0.00158\n",
            "Epoch: 9200, loss: 0.00153\n",
            "Epoch: 9300, loss: 0.00149\n",
            "Epoch: 9400, loss: 0.00145\n",
            "Epoch: 9500, loss: 0.00141\n",
            "Epoch: 9600, loss: 0.00138\n",
            "Epoch: 9700, loss: 0.00135\n",
            "Epoch: 9800, loss: 0.00132\n",
            "Epoch: 9900, loss: 0.00130\n",
            "Epoch: 10000, loss: 0.00128\n",
            "Epoch: 10100, loss: 0.00126\n",
            "Epoch: 10200, loss: 0.00124\n",
            "Epoch: 10300, loss: 0.00123\n",
            "Epoch: 10400, loss: 0.00121\n",
            "Epoch: 10500, loss: 0.00120\n",
            "Epoch: 10600, loss: 0.00119\n",
            "Epoch: 10700, loss: 0.00118\n",
            "Epoch: 10800, loss: 0.00117\n",
            "Epoch: 10900, loss: 0.00116\n",
            "Epoch: 11000, loss: 0.00115\n",
            "Epoch: 11100, loss: 0.00115\n",
            "Epoch: 11200, loss: 0.00114\n",
            "Epoch: 11300, loss: 0.00113\n",
            "Epoch: 11400, loss: 0.00113\n",
            "Epoch: 11500, loss: 0.00112\n",
            "Epoch: 11600, loss: 0.00111\n",
            "Epoch: 11700, loss: 0.00110\n",
            "Epoch: 11800, loss: 0.00110\n",
            "Epoch: 11900, loss: 0.00109\n",
            "Epoch: 12000, loss: 0.00108\n",
            "Epoch: 12100, loss: 0.00108\n",
            "Epoch: 12200, loss: 0.00107\n",
            "Epoch: 12300, loss: 0.00106\n",
            "Epoch: 12400, loss: 0.00106\n",
            "Epoch: 12500, loss: 0.00105\n",
            "Epoch: 12600, loss: 0.00104\n",
            "Epoch: 12700, loss: 0.00104\n",
            "Epoch: 12800, loss: 0.00103\n",
            "Epoch: 12900, loss: 0.00103\n",
            "Epoch: 13000, loss: 0.00102\n",
            "Epoch: 13100, loss: 0.00101\n",
            "Epoch: 13200, loss: 0.00101\n",
            "Epoch: 13300, loss: 0.00100\n",
            "Epoch: 13400, loss: 0.00099\n",
            "Epoch: 13500, loss: 0.00099\n",
            "Epoch: 13600, loss: 0.00098\n",
            "Epoch: 13700, loss: 0.00098\n",
            "Epoch: 13800, loss: 0.00097\n",
            "Epoch: 13900, loss: 0.00097\n",
            "Epoch: 14000, loss: 0.00096\n",
            "Epoch: 14100, loss: 0.00096\n",
            "Epoch: 14200, loss: 0.00095\n",
            "Epoch: 14300, loss: 0.00095\n",
            "Epoch: 14400, loss: 0.00094\n",
            "Epoch: 14500, loss: 0.00094\n",
            "Epoch: 14600, loss: 0.00094\n",
            "Epoch: 14700, loss: 0.00093\n",
            "Epoch: 14800, loss: 0.00093\n",
            "Epoch: 14900, loss: 0.00092\n",
            "Epoch: 15000, loss: 0.00092\n",
            "Epoch: 15100, loss: 0.00092\n",
            "Epoch: 15200, loss: 0.00091\n",
            "Epoch: 15300, loss: 0.00091\n",
            "Epoch: 15400, loss: 0.00091\n",
            "Epoch: 15500, loss: 0.00090\n",
            "Epoch: 15600, loss: 0.00090\n",
            "Epoch: 15700, loss: 0.00090\n",
            "Epoch: 15800, loss: 0.00089\n",
            "Epoch: 15900, loss: 0.00089\n",
            "Epoch: 16000, loss: 0.00089\n",
            "Epoch: 16100, loss: 0.00089\n",
            "Epoch: 16200, loss: 0.00088\n",
            "Epoch: 16300, loss: 0.00088\n",
            "Epoch: 16400, loss: 0.00088\n",
            "Epoch: 16500, loss: 0.00088\n",
            "Epoch: 16600, loss: 0.00087\n",
            "Epoch: 16700, loss: 0.00087\n",
            "Epoch: 16800, loss: 0.00087\n",
            "Epoch: 16900, loss: 0.00087\n",
            "Epoch: 17000, loss: 0.00087\n",
            "Epoch: 17100, loss: 0.00086\n",
            "Epoch: 17200, loss: 0.00086\n",
            "Epoch: 17300, loss: 0.00086\n",
            "Epoch: 17400, loss: 0.00086\n",
            "Epoch: 17500, loss: 0.00086\n",
            "Epoch: 17600, loss: 0.00085\n",
            "Epoch: 17700, loss: 0.00085\n",
            "Epoch: 17800, loss: 0.00085\n",
            "Epoch: 17900, loss: 0.00085\n",
            "Epoch: 18000, loss: 0.00085\n",
            "Epoch: 18100, loss: 0.00084\n",
            "Epoch: 18200, loss: 0.00084\n",
            "Epoch: 18300, loss: 0.00084\n",
            "Epoch: 18400, loss: 0.00084\n",
            "Epoch: 18500, loss: 0.00084\n",
            "Epoch: 18600, loss: 0.00083\n",
            "Epoch: 18700, loss: 0.00083\n",
            "Epoch: 18800, loss: 0.00083\n",
            "Epoch: 18900, loss: 0.00083\n",
            "Epoch: 19000, loss: 0.00083\n",
            "Epoch: 19100, loss: 0.00082\n",
            "Epoch: 19200, loss: 0.00082\n",
            "Epoch: 19300, loss: 0.00082\n",
            "Epoch: 19400, loss: 0.00082\n",
            "Epoch: 19500, loss: 0.00082\n",
            "Epoch: 19600, loss: 0.00082\n",
            "Epoch: 19700, loss: 0.00081\n",
            "Epoch: 19800, loss: 0.00081\n",
            "Epoch: 19900, loss: 0.00081\n",
            "Epoch: 20000, loss: 0.00081\n",
            "Epoch: 20100, loss: 0.00081\n",
            "Epoch: 20200, loss: 0.00081\n",
            "Epoch: 20300, loss: 0.00080\n",
            "Epoch: 20400, loss: 0.00080\n",
            "Epoch: 20500, loss: 0.00080\n",
            "Epoch: 20600, loss: 0.00080\n",
            "Epoch: 20700, loss: 0.00080\n",
            "Epoch: 20800, loss: 0.00080\n",
            "Epoch: 20900, loss: 0.00079\n",
            "Epoch: 21000, loss: 0.00079\n",
            "Epoch: 21100, loss: 0.00079\n",
            "Epoch: 21200, loss: 0.00079\n",
            "Epoch: 21300, loss: 0.00079\n",
            "Epoch: 21400, loss: 0.00078\n",
            "Epoch: 21500, loss: 0.00078\n",
            "Epoch: 21600, loss: 0.00078\n",
            "Epoch: 21700, loss: 0.00078\n",
            "Epoch: 21800, loss: 0.00077\n",
            "Epoch: 21900, loss: 0.00077\n",
            "Epoch: 22000, loss: 0.00077\n",
            "Epoch: 22100, loss: 0.00077\n",
            "Epoch: 22200, loss: 0.00076\n",
            "Epoch: 22300, loss: 0.00076\n",
            "Epoch: 22400, loss: 0.00076\n",
            "Epoch: 22500, loss: 0.00076\n",
            "Epoch: 22600, loss: 0.00075\n",
            "Epoch: 22700, loss: 0.00075\n",
            "Epoch: 22800, loss: 0.00075\n",
            "Epoch: 22900, loss: 0.00075\n",
            "Epoch: 23000, loss: 0.00074\n",
            "Epoch: 23100, loss: 0.00074\n",
            "Epoch: 23200, loss: 0.00074\n",
            "Epoch: 23300, loss: 0.00074\n",
            "Epoch: 23400, loss: 0.00074\n",
            "Epoch: 23500, loss: 0.00073\n",
            "Epoch: 23600, loss: 0.00073\n",
            "Epoch: 23700, loss: 0.00073\n",
            "Epoch: 23800, loss: 0.00073\n",
            "Epoch: 23900, loss: 0.00072\n",
            "Epoch: 24000, loss: 0.00072\n",
            "Epoch: 24100, loss: 0.00072\n",
            "Epoch: 24200, loss: 0.00072\n",
            "Epoch: 24300, loss: 0.00072\n",
            "Epoch: 24400, loss: 0.00071\n",
            "Epoch: 24500, loss: 0.00071\n",
            "Epoch: 24600, loss: 0.00071\n",
            "Epoch: 24700, loss: 0.00071\n",
            "Epoch: 24800, loss: 0.00071\n",
            "Epoch: 24900, loss: 0.00071\n",
            "Epoch: 25000, loss: 0.00070\n",
            "Epoch: 25100, loss: 0.00070\n",
            "Epoch: 25200, loss: 0.00070\n",
            "Epoch: 25300, loss: 0.00070\n",
            "Epoch: 25400, loss: 0.00070\n",
            "Epoch: 25500, loss: 0.00069\n",
            "Epoch: 25600, loss: 0.00069\n",
            "Epoch: 25700, loss: 0.00069\n",
            "Epoch: 25800, loss: 0.00069\n",
            "Epoch: 25900, loss: 0.00068\n",
            "Epoch: 26000, loss: 0.00068\n",
            "Epoch: 26100, loss: 0.00068\n",
            "Epoch: 26200, loss: 0.00068\n",
            "Epoch: 26300, loss: 0.00068\n",
            "Epoch: 26400, loss: 0.00067\n",
            "Epoch: 26500, loss: 0.00067\n",
            "Epoch: 26600, loss: 0.00067\n",
            "Epoch: 26700, loss: 0.00067\n",
            "Epoch: 26800, loss: 0.00066\n",
            "Epoch: 26900, loss: 0.00066\n",
            "Epoch: 27000, loss: 0.00066\n",
            "Epoch: 27100, loss: 0.00066\n",
            "Epoch: 27200, loss: 0.00065\n",
            "Epoch: 27300, loss: 0.00065\n",
            "Epoch: 27400, loss: 0.00065\n",
            "Epoch: 27500, loss: 0.00065\n",
            "Epoch: 27600, loss: 0.00065\n",
            "Epoch: 27700, loss: 0.00064\n",
            "Epoch: 27800, loss: 0.00064\n",
            "Epoch: 27900, loss: 0.00064\n",
            "Epoch: 28000, loss: 0.00064\n",
            "Epoch: 28100, loss: 0.00064\n",
            "Epoch: 28200, loss: 0.00063\n",
            "Epoch: 28300, loss: 0.00063\n",
            "Epoch: 28400, loss: 0.00063\n",
            "Epoch: 28500, loss: 0.00063\n",
            "Epoch: 28600, loss: 0.00063\n",
            "Epoch: 28700, loss: 0.00063\n",
            "Epoch: 28800, loss: 0.00062\n",
            "Epoch: 28900, loss: 0.00062\n",
            "Epoch: 29000, loss: 0.00062\n",
            "Epoch: 29100, loss: 0.00062\n",
            "Epoch: 29200, loss: 0.00062\n",
            "Epoch: 29300, loss: 0.00061\n",
            "Epoch: 29400, loss: 0.00061\n",
            "Epoch: 29500, loss: 0.00061\n",
            "Epoch: 29600, loss: 0.00061\n",
            "Epoch: 29700, loss: 0.00061\n",
            "Epoch: 29800, loss: 0.00060\n",
            "Epoch: 29900, loss: 0.00060\n"
          ]
        }
      ]
    },
    {
      "cell_type": "code",
      "source": [
        "#예측하기\n",
        "\n",
        "df_X_ss = stdsc.transform(df_ETH)\n",
        "df_y_mm = mmsc.transform(df_ETH.iloc[:, 3:4])\n",
        "\n",
        "df_X_ss = Variable(torch.Tensor(df_X_ss)) #converting to Tensors\n",
        "df_y_mm = Variable(torch.Tensor(df_y_mm))\n",
        "\n",
        "#reshaping the dataset\n",
        "df_X_ss = torch.reshape(df_X_ss, (df_X_ss.shape[0], 1, df_X_ss.shape[1]))"
      ],
      "metadata": {
        "id": "8j-qQqc6JU65"
      },
      "execution_count": 30,
      "outputs": []
    },
    {
      "cell_type": "code",
      "source": [
        "train_predict = lstm1(df_X_ss.to(device))#forward pass\n",
        "data_predict = train_predict.data.detach().cpu().numpy() #numpy conversion\n",
        "dataY_plot = df_y_mm.data.numpy()\n",
        "\n",
        "data_predict = mmsc.inverse_transform(data_predict) #reverse transformation\n",
        "dataY_plot = mmsc.inverse_transform(dataY_plot)\n",
        "plt.figure(figsize=(10,6)) #plotting\n",
        "plt.axvline(x=1200, c='r', linestyle='--') #size of the training set\n",
        "\n",
        "plt.plot(dataY_plot, label='Actuall Data') #actual plot\n",
        "plt.plot(data_predict, label='Predicted Data') #predicted plot\n",
        "plt.title('Time-Series Prediction')\n",
        "plt.legend()\n",
        "plt.show() \n"
      ],
      "metadata": {
        "colab": {
          "base_uri": "https://localhost:8080/",
          "height": 390
        },
        "id": "NrwjLiaTJapP",
        "outputId": "705ead43-9e80-4726-b0e6-9b2864131399"
      },
      "execution_count": 33,
      "outputs": [
        {
          "output_type": "display_data",
          "data": {
            "text/plain": [
              "<Figure size 720x432 with 1 Axes>"
            ],
            "image/png": "[encoded data removed]"
          },
          "metadata": {
            "needs_background": "light"
          }
        }
      ]
    }
  ]
}